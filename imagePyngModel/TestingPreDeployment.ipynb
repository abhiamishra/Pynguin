{
 "cells": [
  {
   "cell_type": "code",
   "execution_count": 5,
   "id": "910a3da6",
   "metadata": {},
   "outputs": [
    {
     "name": "stdout",
     "output_type": "stream",
     "text": [
      "Loaded model from disk\n"
     ]
    }
   ],
   "source": [
    "# load json and create model\n",
    "json_file = open('pyngresnet.json', 'r')\n",
    "loaded_model_json = json_file.read()\n",
    "json_file.close()\n",
    "loaded_model = model_from_json(loaded_model_json)\n",
    "# load weights into new model\n",
    "loaded_model.load_weights(\"pyngresnet.h5\")\n",
    "print(\"Loaded model from disk\")"
   ]
  },
  {
   "cell_type": "code",
   "execution_count": 19,
   "id": "a273b66e",
   "metadata": {},
   "outputs": [],
   "source": [
    "import pandas as pd\n",
    "import numpy as np \n",
    "import itertools\n",
    "from sklearn import metrics\n",
    "from sklearn.metrics import confusion_matrix\n",
    "from tensorflow.keras.preprocessing.image import ImageDataGenerator, img_to_array, load_img \n",
    "from tensorflow.keras.applications.resnet50 import preprocess_input, decode_predictions"
   ]
  },
  {
   "cell_type": "code",
   "execution_count": 29,
   "id": "b444f1ef",
   "metadata": {},
   "outputs": [
    {
     "name": "stdout",
     "output_type": "stream",
     "text": [
      "Found 12566 images belonging to 10 classes.\n"
     ]
    }
   ],
   "source": [
    "train_datagen = ImageDataGenerator(\n",
    "    preprocessing_function = preprocess_input,\n",
    "    shear_range=0.2,\n",
    "    zoom_range=0.2,\n",
    "    #rotation_range=45,\n",
    "    horizontal_flip=True,\n",
    "    #vertical_flip=True,\n",
    "    validation_split = 0.2\n",
    ")\n",
    "\n",
    "train_generator = train_datagen.flow_from_directory(\n",
    "    \"processed_data/train\",\n",
    "    target_size=(img_height,img_width),\n",
    "    batch_size=batch_size,\n",
    "    class_mode='categorical',\n",
    "    subset = \"training\"\n",
    ")"
   ]
  },
  {
   "cell_type": "code",
   "execution_count": 51,
   "id": "6dd04a03",
   "metadata": {},
   "outputs": [
    {
     "data": {
      "text/plain": [
       "{'cane': 0,\n",
       " 'cavallo': 1,\n",
       " 'elefante': 2,\n",
       " 'farfalla': 3,\n",
       " 'gallina': 4,\n",
       " 'gatto': 5,\n",
       " 'mucca': 6,\n",
       " 'pecora': 7,\n",
       " 'ragno': 8,\n",
       " 'scoiattolo': 9}"
      ]
     },
     "execution_count": 51,
     "metadata": {},
     "output_type": "execute_result"
    }
   ],
   "source": [
    "dict_resnet = (train_generator.class_indices)\n",
    "dict_resnet"
   ]
  },
  {
   "cell_type": "code",
   "execution_count": 52,
   "id": "6a0f2cfa",
   "metadata": {},
   "outputs": [
    {
     "data": {
      "application/javascript": [
       "\n",
       "        if (window._pyforest_update_imports_cell) { window._pyforest_update_imports_cell('import pickle'); }\n",
       "    "
      ],
      "text/plain": [
       "<IPython.core.display.Javascript object>"
      ]
     },
     "metadata": {},
     "output_type": "display_data"
    }
   ],
   "source": [
    "#saving dict_resnet\n",
    "with open('dict_resnet.pkl', 'wb') as f:\n",
    "    pickle.dump(dict_resnet, f)"
   ]
  },
  {
   "cell_type": "code",
   "execution_count": 21,
   "id": "c8df304f",
   "metadata": {},
   "outputs": [],
   "source": [
    "#load the image\n",
    "my_image = load_img('input_data/test.jpeg', target_size=(224, 224))\n",
    "\n",
    "#preprocess the image\n",
    "my_image = img_to_array(my_image)\n",
    "my_image = my_image.reshape((1, my_image.shape[0], my_image.shape[1], my_image.shape[2]))\n",
    "my_image = preprocess_input(my_image)"
   ]
  },
  {
   "cell_type": "code",
   "execution_count": 23,
   "id": "06ac7407",
   "metadata": {},
   "outputs": [
    {
     "data": {
      "text/plain": [
       "(1, 224, 224, 3)"
      ]
     },
     "execution_count": 23,
     "metadata": {},
     "output_type": "execute_result"
    }
   ],
   "source": [
    "my_image.shape"
   ]
  },
  {
   "cell_type": "code",
   "execution_count": 24,
   "id": "808b6866",
   "metadata": {},
   "outputs": [],
   "source": [
    "#make the prediction\n",
    "prediction = loaded_model.predict(my_image)"
   ]
  },
  {
   "cell_type": "code",
   "execution_count": 54,
   "id": "b386a16f",
   "metadata": {},
   "outputs": [
    {
     "data": {
      "application/javascript": [
       "\n",
       "        if (window._pyforest_update_imports_cell) { window._pyforest_update_imports_cell('import pickle'); }\n",
       "    "
      ],
      "text/plain": [
       "<IPython.core.display.Javascript object>"
      ]
     },
     "metadata": {},
     "output_type": "display_data"
    }
   ],
   "source": [
    "#loading dict_resnet\n",
    "with open('dict_resnet.pkl', 'rb') as f:\n",
    "    dictionary = pickle.load(f)"
   ]
  },
  {
   "cell_type": "code",
   "execution_count": 55,
   "id": "69359ead",
   "metadata": {},
   "outputs": [
    {
     "data": {
      "text/plain": [
       "{'cane': 0,\n",
       " 'cavallo': 1,\n",
       " 'elefante': 2,\n",
       " 'farfalla': 3,\n",
       " 'gallina': 4,\n",
       " 'gatto': 5,\n",
       " 'mucca': 6,\n",
       " 'pecora': 7,\n",
       " 'ragno': 8,\n",
       " 'scoiattolo': 9}"
      ]
     },
     "execution_count": 55,
     "metadata": {},
     "output_type": "execute_result"
    }
   ],
   "source": [
    "dictionary"
   ]
  },
  {
   "cell_type": "code",
   "execution_count": 26,
   "id": "86bf6409",
   "metadata": {},
   "outputs": [
    {
     "data": {
      "text/plain": [
       "[array([1., 0., 0., 0., 0., 0., 0., 0., 0., 0.], dtype=float32)]"
      ]
     },
     "execution_count": 26,
     "metadata": {},
     "output_type": "execute_result"
    }
   ],
   "source": [
    "[np.round(x) for x in prediction]"
   ]
  },
  {
   "cell_type": "code",
   "execution_count": 57,
   "id": "ad994509",
   "metadata": {},
   "outputs": [
    {
     "data": {
      "text/plain": [
       "'cane'"
      ]
     },
     "execution_count": 57,
     "metadata": {},
     "output_type": "execute_result"
    }
   ],
   "source": [
    "[list(dictionary.keys())[i.argmax()] for i in prediction][0]"
   ]
  }
 ],
 "metadata": {
  "kernelspec": {
   "display_name": "Python 3",
   "language": "python",
   "name": "python3"
  },
  "language_info": {
   "codemirror_mode": {
    "name": "ipython",
    "version": 3
   },
   "file_extension": ".py",
   "mimetype": "text/x-python",
   "name": "python",
   "nbconvert_exporter": "python",
   "pygments_lexer": "ipython3",
   "version": "3.8.8"
  }
 },
 "nbformat": 4,
 "nbformat_minor": 5
}
